{
 "cells": [
  {
   "cell_type": "markdown",
   "metadata": {},
   "source": [
    "# Move video file to folder"
   ]
  },
  {
   "cell_type": "code",
   "execution_count": 30,
   "metadata": {},
   "outputs": [],
   "source": [
    "import os\n",
    "import glob\n",
    "import shutil\n",
    "import pathlib\n",
    "\n",
    "for url in glob.glob(os.getcwd() + \"/data/*.mp4\"):\n",
    "    fileName = os.path.basename(url).rsplit( \".\", 1 )[ 0 ].replace('VID_', '')\n",
    "    if(os.path.exists(url)):\n",
    "        shutil.move(url, str(pathlib.Path().resolve()) + \"\\\\data\\\\\" + fileName)"
   ]
  },
  {
   "cell_type": "markdown",
   "metadata": {},
   "source": [
    "# Compute orientation from Gyro"
   ]
  },
  {
   "cell_type": "code",
   "execution_count": 21,
   "metadata": {},
   "outputs": [],
   "source": [
    "import csv\n",
    "import math\n",
    "import numpy as np\n",
    "import cv2\n",
    "from scipy import integrate\n",
    "import matplotlib.pyplot as plt\n",
    "\n",
    "def computeOrientation(fileName, displayGraph=False):\n",
    "    gyroX, gyroY, gyroZ, time = [], [], [], []\n",
    "    dt = 1/400 #400Hz\n",
    "\n",
    "    data_file = open(os.getcwd() + \"/data/\" + fileName + '/VID_' + fileName + 'gyro.csv',  'r')\n",
    "    orientation_file = open(os.getcwd() + \"/data/\" + fileName + '/VID_' + fileName + 'orientation.csv',  'w+', newline=\"\")\n",
    "\n",
    "    data_reader = csv.reader(data_file)\n",
    "    writer = csv.writer(orientation_file)\n",
    "\n",
    "    t_init, t_final, counter = 0, 0, 0\n",
    "    \n",
    "    for row in data_reader:\n",
    "        gyroX.append(float(row[0]))\n",
    "        gyroY.append(float(row[1]))\n",
    "        gyroZ.append(float(row[2]))\n",
    "        time.append(int(row[3]))\n",
    "        \n",
    "        t_final = int(row[3])\n",
    "        counter += 1\n",
    "        if t_init == 0:\n",
    "            t_init = int(row[3])\n",
    "\n",
    "\n",
    "    x = np.linspace(0, abs(t_final - t_init)/1e9, num=counter)\n",
    "    X_int = integrate.cumtrapz(gyroX, dx=dt, initial=0)\n",
    "    Y_int = integrate.cumtrapz(gyroY, dx=dt, initial=0)\n",
    "    Z_int = integrate.cumtrapz(gyroZ, dx=dt, initial=0)\n",
    "\n",
    "    if displayGraph:\n",
    "        plt.plot(x, X_int*(180/math.pi), color=\"g\", label=\"x\")\n",
    "        plt.plot(x, Y_int*(180/math.pi), color=\"r\", label=\"y\")\n",
    "        plt.plot(x, Z_int*(180/math.pi), color=\"b\", label=\"z\")\n",
    "        plt.xlabel('time (s)')\n",
    "        plt.ylabel('orientation (degree)') \n",
    "        plt.legend()\n",
    "        plt.title(\"Rotation of the file: \" + fileName)\n",
    "        plt.show()\n",
    "\n",
    "\n",
    "    for i in range(len(time)):\n",
    "        writer.writerow([X_int[i]*(180/math.pi), Y_int[i]*(180/math.pi), Z_int[i]*(180/math.pi), time[i], gyroX[i], gyroY[i], gyroZ[i]])\n",
    "\n",
    "    data_file.close()\n",
    "    orientation_file.close()"
   ]
  },
  {
   "cell_type": "markdown",
   "metadata": {},
   "source": [
    "## For specific file"
   ]
  },
  {
   "cell_type": "code",
   "execution_count": 22,
   "metadata": {},
   "outputs": [
    {
     "data": {
      "image/png": "[encoded data removed]",
      "text/plain": [
       "<Figure size 432x288 with 1 Axes>"
      ]
     },
     "metadata": {
      "needs_background": "light"
     },
     "output_type": "display_data"
    }
   ],
   "source": [
    "computeOrientation(fileName=\"20220713_135021\", displayGraph=True)"
   ]
  },
  {
   "cell_type": "markdown",
   "metadata": {},
   "source": [
    "## For entire dataset"
   ]
  },
  {
   "cell_type": "code",
   "execution_count": 25,
   "metadata": {},
   "outputs": [],
   "source": [
    "import os \n",
    "import time\n",
    "from IPython.display import clear_output\n",
    "\n",
    "displayGraph = False\n",
    "\n",
    "dataset_list = os.listdir(os.getcwd() + \"/data\")\n",
    "\n",
    "for file in dataset_list:\n",
    "    computeOrientation(fileName=file, displayGraph=displayGraph)\n",
    "    if displayGraph:\n",
    "        time.sleep(1)\n",
    "        os.system('clear')\n",
    "        clear_output(wait=True)"
   ]
  },
  {
   "cell_type": "markdown",
   "metadata": {},
   "source": [
    "# Sync orientation to video frame"
   ]
  },
  {
   "cell_type": "code",
   "execution_count": 37,
   "metadata": {},
   "outputs": [],
   "source": [
    "import csv\n",
    "import math\n",
    "import numpy as np\n",
    "import cv2\n",
    "\n",
    "def processData(fileName, sensorType):\n",
    "\n",
    "    time_file = open(os.getcwd() + \"/data/\" +  fileName+ '/VID_' + fileName  + '_imu_timestamps.csv', 'r')\n",
    "    data_file = open(os.getcwd() + \"/data/\" +  fileName+ '/VID_' + fileName  +  sensorType + '.csv', 'r')\n",
    "    data_processed = open(os.getcwd() + \"/data/\" +  fileName+ '/VID_' + fileName  + \"_sync_\" + sensorType + '.csv',  'w+', newline=\"\")\n",
    "\n",
    "    time_reader = csv.reader(time_file)\n",
    "    data_reader = csv.reader(data_file)\n",
    "\n",
    "    writer = csv.writer(data_processed)\n",
    "    writer.writerow([\"Rot_X (deg)\", \"Rot_Y (deg)\", \"Rot_Z (deg)\", \"Gyro_Time (ns)\", \"Gyro_X\", \"Gyro_Y\", \"Gyro_Z\"])\n",
    "\n",
    "    \"\"\"Loop through the time data file and the gyro file; Then add the ones in gyro that have closest timestamp to the timestamp file\"\"\"\n",
    "    #Time list\n",
    "    time_list = list(time_reader)\n",
    "    frame_counter = 0\n",
    "\n",
    "    \"\"\"GYRO/ACC/MAG\"\"\"\n",
    "    data_processed = list() #This will be the list we will export as a CSV\n",
    "    data_set = set() #Only add matched timestamp here\n",
    "\n",
    "    \"\"\"First entry\"\"\"\n",
    "    first_orientation = []\n",
    "\n",
    "    for row in data_reader:\n",
    "        if frame_counter == len(time_list):\n",
    "            break\n",
    "\n",
    "        target_time = int(time_list[frame_counter][0]) #This will get the target timestamp\n",
    "        if len(data_processed) == 0:\n",
    "            data_processed.append(row)\n",
    "            continue\n",
    "        \n",
    "        #   If the current time from gyro_csv file has a smaller time difference than that in the\n",
    "        #   data_processed list. Then we replace\n",
    "        if (abs(int(row[3]) - target_time) < abs(int(data_processed[-1][3]) - target_time)):\n",
    "            #Check set to see if previous time is already matched; We don't want it to be matched already\n",
    "            if int(data_processed[-1][3]) not in data_set:\n",
    "                #Replace with timestamp that has smaller time diff\n",
    "                data_processed[-1] = row \n",
    "        else:\n",
    "            #Add last element in the processed list to the data_set to confirm it's been matched\n",
    "            frame_counter += 1\n",
    "            data_set.add(int(data_processed[-1][3]))\n",
    "            # orientation_row = [float(data_processed[-1][0]),float(data_processed[-1][1]),float(data_processed[-1][2])]\n",
    "            orientation_row = np.array(data_processed[-1]).astype(float)\n",
    "            if first_orientation == []:\n",
    "                first_orientation = np.array(orientation_row)\n",
    "            orientation_row[0] -= first_orientation[0]\n",
    "            orientation_row[1] -= first_orientation[1]\n",
    "            orientation_row[2] -= first_orientation[2]\n",
    "            orientation_row[3] = data_processed[-1][3]\n",
    "            orientation_row[4] = data_processed[-1][4]\n",
    "            orientation_row[5] = data_processed[-1][5]\n",
    "            orientation_row[6] = data_processed[-1][6]\n",
    "\n",
    "            #Add this element to the CSV file as well\n",
    "            writer.writerow(orientation_row)\n",
    "            #Then add current row to data_processed\n",
    "            data_processed.append(row)\n",
    "\n",
    "    assert(len(data_processed)-1 == len(time_list))\n",
    "\n",
    "    time_file.close()\n",
    "    data_file.close()\n"
   ]
  },
  {
   "cell_type": "markdown",
   "metadata": {},
   "source": [
    "## For specific file"
   ]
  },
  {
   "cell_type": "code",
   "execution_count": 38,
   "metadata": {},
   "outputs": [
    {
     "name": "stderr",
     "output_type": "stream",
     "text": [
      "c:\\Users\\PeterNg\\Anaconda3\\envs\\tensorflow\\lib\\site-packages\\ipykernel_launcher.py:52: DeprecationWarning: elementwise comparison failed; this will raise an error in the future.\n",
      "c:\\Users\\PeterNg\\Anaconda3\\envs\\tensorflow\\lib\\site-packages\\ipykernel_launcher.py:52: DeprecationWarning: elementwise comparison failed; this will raise an error in the future.\n"
     ]
    }
   ],
   "source": [
    "processData(fileName=\"20220713_090357\", sensorType=\"orientation\")"
   ]
  },
  {
   "cell_type": "markdown",
   "metadata": {},
   "source": [
    "## For entire dataset"
   ]
  },
  {
   "cell_type": "code",
   "execution_count": 39,
   "metadata": {},
   "outputs": [
    {
     "name": "stderr",
     "output_type": "stream",
     "text": [
      "c:\\Users\\PeterNg\\Anaconda3\\envs\\tensorflow\\lib\\site-packages\\ipykernel_launcher.py:52: DeprecationWarning: elementwise comparison failed; this will raise an error in the future.\n"
     ]
    }
   ],
   "source": [
    "import os \n",
    "import time\n",
    "from IPython.display import clear_output\n",
    "\n",
    "\n",
    "dataset_list = os.listdir(os.getcwd() + \"/data\")\n",
    "\n",
    "for file in dataset_list:\n",
    "    processData(fileName=file, sensorType=\"orientation\")"
   ]
  },
  {
   "cell_type": "markdown",
   "metadata": {},
   "source": [
    "# Check orientation-to-frame accuracy"
   ]
  },
  {
   "cell_type": "code",
   "execution_count": 13,
   "metadata": {},
   "outputs": [
    {
     "name": "stdout",
     "output_type": "stream",
     "text": [
      "Max offset error: 1.210829ms\n",
      "Min offset error: -1.225291ms\n"
     ]
    }
   ],
   "source": [
    "import numpy as np\n",
    "fileName = \"20220713_090421\"\n",
    "\n",
    "time_file = open(os.getcwd() + \"/data/\" +  fileName+ '/VID_' + fileName  + '_imu_timestamps.csv', 'r')\n",
    "sync_file = open(os.getcwd() + \"/data/\" +  fileName+ '/VID_' + fileName  + \"_sync_orientation.csv\",  'r')\n",
    "\n",
    "time_reader = csv.reader(time_file)\n",
    "sync_reader = csv.reader(sync_file)\n",
    "\n",
    "time_list = list(time_reader)\n",
    "sync_list = list(sync_reader)[1:]\n",
    "\n",
    "maxVal = -np.infty\n",
    "minVal = np.infty\n",
    "\n",
    "for i in range(len(time_list)):\n",
    "    diff = float(time_list[i][0]) - float(sync_list[i][3])\n",
    "    maxVal = max(diff, maxVal)\n",
    "    minVal = min(diff, minVal)\n",
    "\n",
    "print(\"Max offset error: \" + str(maxVal/1e6) + \"ms\")\n",
    "print(\"Min offset error: \" + str(minVal/1e6) + \"ms\")"
   ]
  },
  {
   "cell_type": "markdown",
   "metadata": {},
   "source": [
    "# Visualize"
   ]
  },
  {
   "cell_type": "code",
   "execution_count": 32,
   "metadata": {},
   "outputs": [
    {
     "name": "stdout",
     "output_type": "stream",
     "text": [
      "Function 2 is active\n"
     ]
    }
   ],
   "source": [
    "import test2\n",
    "test2.func2()"
   ]
  },
  {
   "cell_type": "code",
   "execution_count": 1,
   "metadata": {},
   "outputs": [
    {
     "name": "stdout",
     "output_type": "stream",
     "text": [
      "pygame 2.1.2 (SDL 2.0.18, Python 3.7.11)\n",
      "Hello from the pygame community. https://www.pygame.org/contribute.html\n",
      "fps: 28\n"
     ]
    },
    {
     "ename": "NameError",
     "evalue": "name 'exit' is not defined",
     "output_type": "error",
     "traceback": [
      "\u001b[1;31m---------------------------------------------------------------------------\u001b[0m",
      "\u001b[1;31mNameError\u001b[0m                                 Traceback (most recent call last)",
      "\u001b[1;32m~\\AppData\\Local\\Temp\\ipykernel_22548\\883521317.py\u001b[0m in \u001b[0;36m<module>\u001b[1;34m\u001b[0m\n\u001b[0;32m      1\u001b[0m \u001b[1;32mimport\u001b[0m \u001b[0mvisualize\u001b[0m\u001b[1;33m\u001b[0m\u001b[1;33m\u001b[0m\u001b[0m\n\u001b[1;32m----> 2\u001b[1;33m \u001b[0mvisualize\u001b[0m\u001b[1;33m.\u001b[0m\u001b[0mmain\u001b[0m\u001b[1;33m(\u001b[0m\u001b[0mfileName\u001b[0m\u001b[1;33m=\u001b[0m\u001b[1;34m\"20220713_114353\"\u001b[0m\u001b[1;33m)\u001b[0m\u001b[1;33m\u001b[0m\u001b[1;33m\u001b[0m\u001b[0m\n\u001b[0m",
      "\u001b[1;32md:\\Research\\UMass Computer Vision Lab\\Rotation Estimation\\cameraimu_data_repo\\dataset\\visualize.py\u001b[0m in \u001b[0;36mmain\u001b[1;34m(fileName)\u001b[0m\n\u001b[0;32m     73\u001b[0m     \u001b[1;31m# pygame.quit()\u001b[0m\u001b[1;33m\u001b[0m\u001b[1;33m\u001b[0m\u001b[1;33m\u001b[0m\u001b[0m\n\u001b[0;32m     74\u001b[0m     \u001b[1;31m# cv2.destroyAllWindows()\u001b[0m\u001b[1;33m\u001b[0m\u001b[1;33m\u001b[0m\u001b[1;33m\u001b[0m\u001b[0m\n\u001b[1;32m---> 75\u001b[1;33m     \u001b[0mexit\u001b[0m\u001b[1;33m\u001b[0m\u001b[1;33m\u001b[0m\u001b[0m\n\u001b[0m\u001b[0;32m     76\u001b[0m \u001b[1;33m\u001b[0m\u001b[0m\n\u001b[0;32m     77\u001b[0m \u001b[1;33m\u001b[0m\u001b[0m\n",
      "\u001b[1;31mNameError\u001b[0m: name 'exit' is not defined"
     ]
    }
   ],
   "source": [
    "import visualize\n",
    "visualize.main(fileName=\"20220713_114353\")"
   ]
  }
 ],
 "metadata": {
  "interpreter": {
   "hash": "fdc0ec388fb84f2b452f3beaed96b3d66d8f92940ccc41d2ca9412cc69c57c23"
  },
  "kernelspec": {
   "display_name": "Python 3.7.11 ('tensorflow')",
   "language": "python",
   "name": "python3"
  },
  "language_info": {
   "codemirror_mode": {
    "name": "ipython",
    "version": 3
   },
   "file_extension": ".py",
   "mimetype": "text/x-python",
   "name": "python",
   "nbconvert_exporter": "python",
   "pygments_lexer": "ipython3",
   "version": "3.7.11"
  },
  "orig_nbformat": 4
 },
 "nbformat": 4,
 "nbformat_minor": 2
}
